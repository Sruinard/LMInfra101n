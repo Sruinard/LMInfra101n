{
 "cells": [
  {
   "cell_type": "code",
   "execution_count": 2,
   "id": "3688b16b",
   "metadata": {},
   "outputs": [
    {
     "name": "stderr",
     "output_type": "stream",
     "text": [
      "/home/sruinard/Documents/personal/projects/LMInfra101n/.venv/lib/python3.12/site-packages/tqdm/auto.py:21: TqdmWarning: IProgress not found. Please update jupyter and ipywidgets. See https://ipywidgets.readthedocs.io/en/stable/user_install.html\n",
      "  from .autonotebook import tqdm as notebook_tqdm\n"
     ]
    }
   ],
   "source": [
    "from transformers import AutoTokenizer, AutoModelForCausalLM\n",
    "from lminfra101n import train"
   ]
  },
  {
   "cell_type": "code",
   "execution_count": 3,
   "id": "c11b3c51",
   "metadata": {},
   "outputs": [
    {
     "name": "stderr",
     "output_type": "stream",
     "text": [
      "Loading checkpoint shards: 100%|██████████| 2/2 [00:15<00:00,  7.75s/it]\n"
     ]
    }
   ],
   "source": [
    "tokenizer = AutoTokenizer.from_pretrained(\"philschmid/gemma-tokenizer-chatml\", use_fast=True)\n",
    "model = AutoModelForCausalLM.from_pretrained(\"google/gemma-3-4b-pt\", trust_remote_code=True, device_map=\"auto\")"
   ]
  },
  {
   "cell_type": "code",
   "execution_count": 4,
   "id": "4441ba44",
   "metadata": {},
   "outputs": [
    {
     "name": "stderr",
     "output_type": "stream",
     "text": [
      "Map (num_proc=4): 100%|██████████| 206/206 [00:02<00:00, 102.26 examples/s]\n",
      "Map (num_proc=4): 100%|██████████| 52/52 [00:02<00:00, 25.15 examples/s]\n"
     ]
    }
   ],
   "source": [
    "path = \"data/dataset.jsonl\"\n",
    "dataset = train.prepare_dataset(path, tokenizer)"
   ]
  },
  {
   "cell_type": "code",
   "execution_count": 5,
   "id": "d983a264",
   "metadata": {},
   "outputs": [
    {
     "name": "stderr",
     "output_type": "stream",
     "text": [
      "Extracting prompt in train dataset: 100%|██████████| 206/206 [00:00<00:00, 18694.59 examples/s]\n",
      "Applying chat template to train dataset: 100%|██████████| 206/206 [00:00<00:00, 24974.03 examples/s]\n",
      "Tokenizing train dataset: 100%|██████████| 206/206 [00:00<00:00, 3507.85 examples/s]\n",
      "Extracting prompt in eval dataset: 100%|██████████| 52/52 [00:00<00:00, 16397.55 examples/s]\n",
      "Applying chat template to eval dataset: 100%|██████████| 52/52 [00:00<00:00, 14767.68 examples/s]\n",
      "Tokenizing eval dataset: 100%|██████████| 52/52 [00:00<00:00, 2904.80 examples/s]\n"
     ]
    }
   ],
   "source": [
    "trainer = train.dpo_finetuning(dataset, tokenizer, model)"
   ]
  },
  {
   "cell_type": "code",
   "execution_count": null,
   "id": "d21ffc02",
   "metadata": {},
   "outputs": [
    {
     "name": "stderr",
     "output_type": "stream",
     "text": [
      "The tokenizer has new PAD/BOS/EOS tokens that differ from the model config and generation config. The model config and generation config were aligned accordingly, being updated with the tokenizer's values. Updated tokens: {'eos_token_id': 1, 'bos_token_id': 2, 'pad_token_id': 0}.\n"
     ]
    }
   ],
   "source": [
    "trainer.train()"
   ]
  },
  {
   "cell_type": "code",
   "execution_count": null,
   "id": "2c9aead2",
   "metadata": {},
   "outputs": [],
   "source": []
  }
 ],
 "metadata": {
  "kernelspec": {
   "display_name": ".venv",
   "language": "python",
   "name": "python3"
  },
  "language_info": {
   "codemirror_mode": {
    "name": "ipython",
    "version": 3
   },
   "file_extension": ".py",
   "mimetype": "text/x-python",
   "name": "python",
   "nbconvert_exporter": "python",
   "pygments_lexer": "ipython3",
   "version": "3.12.11"
  }
 },
 "nbformat": 4,
 "nbformat_minor": 5
}
