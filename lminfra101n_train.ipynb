{
 "cells": [
  {
   "cell_type": "code",
   "execution_count": 2,
   "id": "3688b16b",
   "metadata": {},
   "outputs": [],
   "source": [
    "from transformers import AutoTokenizer, AutoModelForCausalLM\n",
    "from lminfra101n import train"
   ]
  },
  {
   "cell_type": "code",
   "execution_count": null,
   "id": "c11b3c51",
   "metadata": {},
   "outputs": [
    {
     "name": "stderr",
     "output_type": "stream",
     "text": [
      "Loading checkpoint shards: 100%|██████████| 2/2 [00:05<00:00,  2.65s/it]\n",
      "Map (num_proc=4): 100%|██████████| 206/206 [00:09<00:00, 21.11 examples/s]\n",
      "Map (num_proc=4): 100%|██████████| 52/52 [00:10<00:00,  4.99 examples/s]\n",
      "The installed version of bitsandbytes was compiled without GPU support. 8-bit optimizers, 8-bit multiplication, and GPU quantization are unavailable.\n",
      "Extracting prompt in train dataset: 100%|██████████| 206/206 [00:00<00:00, 1674.66 examples/s]\n",
      "Applying chat template to train dataset: 100%|██████████| 206/206 [00:00<00:00, 4598.09 examples/s]\n",
      "Tokenizing train dataset: 100%|██████████| 206/206 [00:00<00:00, 464.50 examples/s]\n",
      "Extracting prompt in eval dataset: 100%|██████████| 52/52 [00:00<00:00, 2501.59 examples/s]\n",
      "Applying chat template to eval dataset: 100%|██████████| 52/52 [00:00<00:00, 2780.06 examples/s]\n",
      "Tokenizing eval dataset: 100%|██████████| 52/52 [00:00<00:00, 518.62 examples/s]\n",
      "The tokenizer has new PAD/BOS/EOS tokens that differ from the model config and generation config. The model config and generation config were aligned accordingly, being updated with the tokenizer's values. Updated tokens: {'eos_token_id': 1, 'bos_token_id': 2, 'pad_token_id': 0}.\n",
      "/usr/local/google/home/ruinard/Documents/01_projects/LMInfra101n/.venv/lib/python3.12/site-packages/torch/utils/data/dataloader.py:666: UserWarning: 'pin_memory' argument is set as true but no accelerator is found, then device pinned memory won't be used.\n",
      "  warnings.warn(warn_msg)\n"
     ]
    }
   ],
   "source": [
    "tokenizer = AutoTokenizer.from_pretrained(\"philschmid/gemma-tokenizer-chatml\", use_fast=True)\n",
    "model = AutoModelForCausalLM.from_pretrained(\"google/gemma-3-4b-pt\", trust_remote_code=True, device_map=\"auto\")\n",
    "path = \"data/dataset.jsonl\"\n",
    "dataset = train.prepare_dataset(path, tokenizer)"
   ]
  },
  {
   "cell_type": "code",
   "execution_count": null,
   "id": "d983a264",
   "metadata": {},
   "outputs": [],
   "source": [
    "trainer = train.dpo_finetuning(dataset, tokenizer, model)"
   ]
  },
  {
   "cell_type": "code",
   "execution_count": null,
   "id": "d21ffc02",
   "metadata": {},
   "outputs": [],
   "source": [
    "trainer.train()"
   ]
  }
 ],
 "metadata": {
  "kernelspec": {
   "display_name": "LMInfra101n",
   "language": "python",
   "name": "python3"
  },
  "language_info": {
   "codemirror_mode": {
    "name": "ipython",
    "version": 3
   },
   "file_extension": ".py",
   "mimetype": "text/x-python",
   "name": "python",
   "nbconvert_exporter": "python",
   "pygments_lexer": "ipython3",
   "version": "3.12.3"
  }
 },
 "nbformat": 4,
 "nbformat_minor": 5
}
